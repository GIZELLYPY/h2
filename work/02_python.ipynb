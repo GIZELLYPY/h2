{
 "cells": [
  {
   "cell_type": "markdown",
   "metadata": {},
   "source": [
    "# Lendo dados em um banco MySQL consolidando os dados e salvando em outro banco de dados\n",
    "\n",
    "By: [Gizélly N.S.](https://www.linkedin.com/in/gizellyns/)   "
   ]
  },
  {
   "cell_type": "code",
   "execution_count": 1,
   "metadata": {},
   "outputs": [
    {
     "name": "stdout",
     "output_type": "stream",
     "text": [
      "Requirement already satisfied: mysql-connector-python-rf in /opt/conda/lib/python3.11/site-packages (2.2.2)\n"
     ]
    }
   ],
   "source": [
    "!pip install mysql-connector-python-rf"
   ]
  },
  {
   "cell_type": "code",
   "execution_count": 17,
   "metadata": {},
   "outputs": [],
   "source": [
    "from pyspark.sql import SparkSession\n",
    "from pyspark.sql import SQLContext\n",
    "from pyspark.sql import functions as F\n",
    "from pyspark.sql.types import StructType, StructField, StringType, IntegerType, DateType, TimestampType, FloatType, DoubleType\n",
    "import pandas as pd\n",
    "import json\n",
    "import mysql.connector as connection\n",
    "\n",
    "from modules.import_conn_properties import import_conn_properties\n",
    "from modules.write_on_db import write_on_db\n",
    "from modules.get_from_db import get_from_db\n"
   ]
  },
  {
   "cell_type": "code",
   "execution_count": 3,
   "metadata": {
    "ExecuteTime": {
     "end_time": "2019-12-06T22:31:06.448034Z",
     "start_time": "2019-12-06T22:31:06.070195Z"
    }
   },
   "outputs": [],
   "source": [
    "\n",
    "spark = SparkSession \\\n",
    "    .builder \\\n",
    "    .appName('02_python') \\\n",
    "    .config('spark.driver.extraClassPath', 'postgresql-42.2.10.jar') \\\n",
    "    .getOrCreate()"
   ]
  },
  {
   "cell_type": "code",
   "execution_count": 4,
   "metadata": {},
   "outputs": [],
   "source": [
    "raw_data_properties = import_conn_properties('./conn_properties/raw_data_properties.txt')"
   ]
  },
  {
   "cell_type": "code",
   "execution_count": null,
   "metadata": {},
   "outputs": [],
   "source": []
  },
  {
   "cell_type": "code",
   "execution_count": 5,
   "metadata": {},
   "outputs": [],
   "source": [
    "def get_data_from_remote_db(raw_data_properties: dict):\n",
    "    \"\"\"Read table raw_data on remote database.\n",
    "\n",
    "    Args:\n",
    "        raw_data_properties (dict): connection properties\n",
    "\n",
    "    Returns:\n",
    "        spark dataframe:  with treated types and columns \"ano\" and \"mes\" added\n",
    "    \"\"\"    \n",
    "    try:\n",
    "        mydb = connection.connect(\n",
    "            host=raw_data_properties[\"db_host\"],\n",
    "            database=raw_data_properties[\"db_name\"],\n",
    "            user=raw_data_properties[\"db_user\"],\n",
    "            passwd=raw_data_properties[\"db_password\"],\n",
    "            use_pure=True,\n",
    "        )\n",
    "        query = \"Select * from raw_data;\"\n",
    "        result_dataFrame = pd.read_sql(query, mydb)\n",
    "        mydb.close()\n",
    "\n",
    "    except Exception as e:\n",
    "        print(str(e))\n",
    "\n",
    "    raw_schema = StructType(\n",
    "        [\n",
    "            StructField(\"datahora_acesso_str\", StringType(), True),\n",
    "            StructField(\"clientes_id\", IntegerType(), True),\n",
    "            StructField(\"modalidade\", StringType(), True),\n",
    "            StructField(\"rake\", DoubleType(), True),\n",
    "        ]\n",
    "    )\n",
    "\n",
    "    raw_data = spark.createDataFrame(result_dataFrame, schema=raw_schema)\n",
    "    raw_data = (\n",
    "        raw_data.withColumn(\"datahora_acesso\", F.to_timestamp(\"datahora_acesso_str\"))\n",
    "        .withColumn(\"ano\", F.lit(F.year(\"datahora_acesso\")))\n",
    "        .withColumn(\"mes\", F.lit(F.month(\"datahora_acesso\")))\n",
    "        .select([\"datahora_acesso\", \"clientes_id\", \"modalidade\", \"rake\", \"ano\", \"mes\"])\n",
    "    )\n",
    "\n",
    "    return raw_data\n",
    "    \n",
    "\n",
    "\n",
    "\n",
    "\n"
   ]
  },
  {
   "cell_type": "code",
   "execution_count": 6,
   "metadata": {},
   "outputs": [
    {
     "name": "stderr",
     "output_type": "stream",
     "text": [
      "/tmp/ipykernel_21818/2137771997.py:19: UserWarning: pandas only supports SQLAlchemy connectable (engine/connection) or database string URI or sqlite3 DBAPI2 connection. Other DBAPI2 objects are not tested. Please consider using SQLAlchemy.\n",
      "  result_dataFrame = pd.read_sql(query, mydb)\n"
     ]
    }
   ],
   "source": [
    "df = get_data_from_remote_db(raw_data_properties)"
   ]
  },
  {
   "cell_type": "code",
   "execution_count": 7,
   "metadata": {},
   "outputs": [
    {
     "name": "stdout",
     "output_type": "stream",
     "text": [
      "+-------------------+-----------+----------+-----+----+---+\n",
      "|    datahora_acesso|clientes_id|modalidade| rake| ano|mes|\n",
      "+-------------------+-----------+----------+-----+----+---+\n",
      "|2021-03-15 17:00:00|       9467|   Torneio|  1.0|2021|  3|\n",
      "|2023-04-11 07:57:51|       4683| Cash Game|74.05|2023|  4|\n",
      "|2022-01-19 11:00:00|       2651|   Torneio|  6.0|2022|  1|\n",
      "|2023-03-12 13:54:40|       5300| Cash Game| 10.1|2023|  3|\n",
      "|2022-06-07 15:52:24|       3711| Cash Game| 7.65|2022|  6|\n",
      "|2022-01-08 12:20:17|      50907| Cash Game| 2.21|2022|  1|\n",
      "|2020-12-19 18:47:00|      26729| Cash Game| 0.57|2020| 12|\n",
      "|2023-01-21 14:43:39|      77882| Cash Game|  0.4|2023|  1|\n",
      "|2022-06-13 08:26:17|      46609| Cash Game| 5.85|2022|  6|\n",
      "|2022-07-17 21:32:26|      51223| Cash Game| 0.15|2022|  7|\n",
      "|2022-08-24 10:00:00|      47703|   Torneio|  1.0|2022|  8|\n",
      "|2023-04-17 01:03:44|       1536|   Torneio|  1.0|2023|  4|\n",
      "|2023-02-04 11:54:57|      24095|   Torneio|  2.0|2023|  2|\n",
      "|2022-11-02 20:00:00|      61608|   Torneio|  3.5|2022| 11|\n",
      "|2023-04-19 17:07:33|      26104| Cash Game| 2.45|2023|  4|\n",
      "|2022-12-21 15:37:03|      40346|   Torneio|  0.5|2022| 12|\n",
      "|2020-07-09 21:00:00|      39012|   Torneio|  6.6|2020|  7|\n",
      "|2023-03-19 19:34:22|        407| Cash Game| 93.5|2023|  3|\n",
      "|2022-01-17 21:27:27|      54139| Cash Game| 4.09|2022|  1|\n",
      "|2022-05-10 23:52:50|      50066|   Torneio|  0.1|2022|  5|\n",
      "+-------------------+-----------+----------+-----+----+---+\n",
      "only showing top 20 rows\n",
      "\n"
     ]
    }
   ],
   "source": [
    "df.show()"
   ]
  },
  {
   "cell_type": "markdown",
   "metadata": {},
   "source": [
    "### Consolidação dos resultados por mês\n",
    "\n",
    "* mes: o mês em que os jogadores realizaram a ação\n",
    "* rake: a soma total do rake no mês\n",
    "* jogadores: a quantidade distinta de jogadores que jogaram cash game ou torneio\n",
    "* rake_cash_game: a soma do rake da modalidade cash game gerado no mês\n",
    "* rake_torneio: a soma do rake da modalidade torneio gerado no mês\n",
    "* jogadores_cash_game: a quantidade distinta de jogadores que jogaram cash game no mês\n",
    "* jogadores_torneio: a quantidade distinta de jogadores que jogaram torneio no mês"
   ]
  },
  {
   "cell_type": "code",
   "execution_count": null,
   "metadata": {},
   "outputs": [],
   "source": []
  },
  {
   "cell_type": "code",
   "execution_count": 8,
   "metadata": {},
   "outputs": [],
   "source": [
    "consolidado = df.groupBy([\"ano\", \"mes\"]) \\\n",
    "    .agg(F.sum(\"rake\").alias(\"rake_tt\"), \\\n",
    "         F.sum(F.when(F.col('modalidade') == 'Cash Game', F.col('rake'))).alias('tt_rake_cash_game'), \\\n",
    "         F.sum(F.when(F.col('modalidade') == 'Torneio', F.col('rake'))).alias('tt_rake_torneio'), \\\n",
    "         F.countDistinct(\"clientes_id\").alias(\"tt_jog_distintos\"), \\\n",
    "         F.countDistinct(F.when(F.col('modalidade') == 'Cash Game', F.col('clientes_id'))).alias('tt_jog_cash_game'), \\\n",
    "         F.countDistinct(F.when(F.col('modalidade') == 'Torneio', F.col('clientes_id'))).alias('tt_jog_torneio') \\\n",
    "        ).orderBy([\"ano\",\"mes\"], ascending=True)\n",
    "        \n",
    "        \n",
    "        "
   ]
  },
  {
   "cell_type": "code",
   "execution_count": 9,
   "metadata": {},
   "outputs": [
    {
     "name": "stdout",
     "output_type": "stream",
     "text": [
      "+----+---+------------------+------------------+------------------+----------------+----------------+--------------+\n",
      "| ano|mes|           rake_tt| tt_rake_cash_game|   tt_rake_torneio|tt_jog_distintos|tt_jog_cash_game|tt_jog_torneio|\n",
      "+----+---+------------------+------------------+------------------+----------------+----------------+--------------+\n",
      "|2020|  6|10259.430000000002|           4917.28|           5342.15|             723|             347|           479|\n",
      "|2020|  7|          10669.43| 5277.030000000001| 5392.399999999999|             656|             317|           435|\n",
      "|2020|  8|10715.640000000001|            6883.1|           3832.54|             504|             249|           346|\n",
      "|2020|  9|7875.2699999999995|           4185.37|3689.8999999999996|             389|             187|           267|\n",
      "|2020| 10|           8797.01| 5511.540000000001|3285.4700000000003|             362|             193|           232|\n",
      "|2020| 11|           8013.56| 6054.049999999999|1959.5099999999998|             365|             205|           210|\n",
      "|2020| 12|           6576.91|3944.0200000000004|           2632.89|             411|             217|           246|\n",
      "|2021|  1|           6648.24| 4328.700000000001|           2319.54|             384|             215|           232|\n",
      "|2021|  2|           6683.25|           4983.84|1699.4099999999999|             342|             197|           200|\n",
      "|2021|  3|          10770.24| 7912.650000000001|           2857.59|             496|             268|           329|\n",
      "|2021|  4|           9906.79|           7049.67|           2857.12|             516|             264|           339|\n",
      "|2021|  5| 7368.760000000001|           5044.58|2324.1799999999994|             424|             251|           262|\n",
      "|2021|  6|7493.3200000000015| 5165.950000000001|2327.3699999999994|             414|             224|           255|\n",
      "|2021|  7| 7408.620000000002|           5427.75|1980.8700000000003|             444|             263|           252|\n",
      "|2021|  8|           8621.47| 7151.230000000001|1470.2399999999998|             518|             308|           297|\n",
      "|2021|  9| 7714.629999999997| 6203.460000000001|           1511.17|             537|             320|           318|\n",
      "|2021| 10|           10613.1|           7217.92|3395.1800000000003|             764|             453|           444|\n",
      "|2021| 11|19045.360000000004|          13209.66|            5835.7|             819|             478|           477|\n",
      "|2021| 12|19988.940000000002|15207.640000000001| 4781.299999999999|            1042|             649|           567|\n",
      "|2022|  1|27380.840000000004|          20777.34|            6603.5|            1194|             705|           668|\n",
      "+----+---+------------------+------------------+------------------+----------------+----------------+--------------+\n",
      "only showing top 20 rows\n",
      "\n"
     ]
    }
   ],
   "source": [
    "consolidado.show()"
   ]
  },
  {
   "cell_type": "markdown",
   "metadata": {},
   "source": [
    "### Criando tabela vazia no banco de dados local"
   ]
  },
  {
   "cell_type": "code",
   "execution_count": 10,
   "metadata": {},
   "outputs": [
    {
     "name": "stdout",
     "output_type": "stream",
     "text": [
      "Tabela raw_data criada com sucesso.\n"
     ]
    }
   ],
   "source": [
    "%run -i './sql/create_table_raw_data.py'"
   ]
  },
  {
   "cell_type": "markdown",
   "metadata": {},
   "source": [
    "### Escrevendo os dados consolidados no banco de dados local"
   ]
  },
  {
   "cell_type": "code",
   "execution_count": 11,
   "metadata": {},
   "outputs": [],
   "source": [
    "raw_data_properties = {\n",
    "    'driver': 'org.postgresql.Driver',\n",
    "    'url': 'jdbc:postgresql://postgres:5432/bakery',\n",
    "    'user': 'postgres',\n",
    "    'password': 'postgres1234',\n",
    "    'dbtable': 'raw_data',\n",
    "}"
   ]
  },
  {
   "cell_type": "code",
   "execution_count": 12,
   "metadata": {},
   "outputs": [],
   "source": [
    "consol_properties = import_conn_properties('./conn_properties/consol_properties.txt')"
   ]
  },
  {
   "cell_type": "code",
   "execution_count": 16,
   "metadata": {},
   "outputs": [
    {
     "data": {
      "text/plain": [
       "'Sucess'"
      ]
     },
     "execution_count": 16,
     "metadata": {},
     "output_type": "execute_result"
    }
   ],
   "source": [
    "write_on_db(spark, consolidado, consol_properties)"
   ]
  },
  {
   "cell_type": "markdown",
   "metadata": {},
   "source": [
    "\n",
    "### Lendo os dados consolidados do banco de dados local"
   ]
  },
  {
   "cell_type": "code",
   "execution_count": 18,
   "metadata": {},
   "outputs": [],
   "source": [
    "get_from_db(spark, consol_properties, \"TempView_dados_consolidados\")\n",
    "\n"
   ]
  },
  {
   "cell_type": "markdown",
   "metadata": {},
   "source": [
    "Para ficar mais clean na tela, estou mostrando os dados oriundos do banco de dados local em \n",
    "dois momentos na célula 93 e 94 respectivamente. "
   ]
  },
  {
   "cell_type": "code",
   "execution_count": 19,
   "metadata": {},
   "outputs": [
    {
     "name": "stdout",
     "output_type": "stream",
     "text": [
      "+----+---+--------------------+--------------------+--------------------+\n",
      "| ano|mes|             rake_tt|   tt_rake_cash_game|     tt_rake_torneio|\n",
      "+----+---+--------------------+--------------------+--------------------+\n",
      "|2020|  6|10259.43000000000...|4917.280000000000...|5342.150000000000...|\n",
      "|2020|  7|10669.43000000000...|5277.030000000000...|5392.400000000000...|\n",
      "|2020|  8|10715.64000000000...|6883.100000000000...|3832.540000000000...|\n",
      "|2020|  9|7875.270000000000...|4185.370000000000...|3689.900000000000...|\n",
      "|2020| 10|8797.010000000000...|5511.540000000000...|3285.470000000000...|\n",
      "|2020| 11|8013.560000000000...|6054.050000000000...|1959.510000000000...|\n",
      "|2020| 12|6576.910000000000...|3944.020000000000...|2632.890000000000...|\n",
      "|2021|  1|6648.240000000000...|4328.700000000000...|2319.540000000000...|\n",
      "|2021|  2|6683.250000000000...|4983.840000000000...|1699.410000000000...|\n",
      "|2021|  3|10770.24000000000...|7912.650000000000...|2857.590000000000...|\n",
      "|2021|  4|9906.790000000000...|7049.670000000000...|2857.120000000000...|\n",
      "|2021|  5|7368.760000000000...|5044.580000000000...|2324.180000000000...|\n",
      "|2021|  6|7493.320000000000...|5165.950000000000...|2327.370000000000...|\n",
      "|2021|  7|7408.620000000000...|5427.750000000000...|1980.870000000000...|\n",
      "|2021|  8|8621.470000000000...|7151.230000000000...|1470.240000000000...|\n",
      "|2021|  9|7714.630000000000...|6203.460000000000...|1511.170000000000...|\n",
      "|2021| 10|10613.10000000000...|7217.920000000000...|3395.180000000000...|\n",
      "|2021| 11|19045.36000000000...|13209.66000000000...|5835.700000000000...|\n",
      "|2021| 12|19988.94000000000...|15207.64000000000...|4781.300000000000...|\n",
      "|2022|  1|27380.84000000000...|20777.34000000000...|6603.500000000000...|\n",
      "+----+---+--------------------+--------------------+--------------------+\n",
      "only showing top 20 rows\n",
      "\n"
     ]
    }
   ],
   "source": [
    "spark.sql(\"SELECT ano, mes,  rake_tt, tt_rake_cash_game, tt_rake_torneio from TempView_dados_consolidados\").show()"
   ]
  },
  {
   "cell_type": "code",
   "execution_count": 20,
   "metadata": {},
   "outputs": [
    {
     "name": "stdout",
     "output_type": "stream",
     "text": [
      "+----+---+----------------+----------------+--------------+\n",
      "| ano|mes|tt_jog_distintos|tt_jog_cash_game|tt_jog_torneio|\n",
      "+----+---+----------------+----------------+--------------+\n",
      "|2020|  6|             723|             347|           479|\n",
      "|2020|  7|             656|             317|           435|\n",
      "|2020|  8|             504|             249|           346|\n",
      "|2020|  9|             389|             187|           267|\n",
      "|2020| 10|             362|             193|           232|\n",
      "|2020| 11|             365|             205|           210|\n",
      "|2020| 12|             411|             217|           246|\n",
      "|2021|  1|             384|             215|           232|\n",
      "|2021|  2|             342|             197|           200|\n",
      "|2021|  3|             496|             268|           329|\n",
      "|2021|  4|             516|             264|           339|\n",
      "|2021|  5|             424|             251|           262|\n",
      "|2021|  6|             414|             224|           255|\n",
      "|2021|  7|             444|             263|           252|\n",
      "|2021|  8|             518|             308|           297|\n",
      "|2021|  9|             537|             320|           318|\n",
      "|2021| 10|             764|             453|           444|\n",
      "|2021| 11|             819|             478|           477|\n",
      "|2021| 12|            1042|             649|           567|\n",
      "|2022|  1|            1194|             705|           668|\n",
      "+----+---+----------------+----------------+--------------+\n",
      "only showing top 20 rows\n",
      "\n"
     ]
    }
   ],
   "source": [
    "spark.sql(\"SELECT ano, mes, tt_jog_distintos, tt_jog_cash_game, tt_jog_torneio from TempView_dados_consolidados\").show()"
   ]
  },
  {
   "cell_type": "code",
   "execution_count": null,
   "metadata": {},
   "outputs": [],
   "source": []
  }
 ],
 "metadata": {
  "kernelspec": {
   "display_name": "Python 3 (ipykernel)",
   "language": "python",
   "name": "python3"
  },
  "language_info": {
   "codemirror_mode": {
    "name": "ipython",
    "version": 3
   },
   "file_extension": ".py",
   "mimetype": "text/x-python",
   "name": "python",
   "nbconvert_exporter": "python",
   "pygments_lexer": "ipython3",
   "version": "3.11.4"
  },
  "pycharm": {
   "stem_cell": {
    "cell_type": "raw",
    "metadata": {
     "collapsed": false
    },
    "source": []
   }
  },
  "toc": {
   "base_numbering": 1,
   "nav_menu": {},
   "number_sections": false,
   "sideBar": true,
   "skip_h1_title": false,
   "title_cell": "Table of Contents",
   "title_sidebar": "Contents",
   "toc_cell": false,
   "toc_position": {
    "height": "calc(100% - 180px)",
    "left": "10px",
    "top": "150px",
    "width": "260px"
   },
   "toc_section_display": true,
   "toc_window_display": true
  }
 },
 "nbformat": 4,
 "nbformat_minor": 4
}
