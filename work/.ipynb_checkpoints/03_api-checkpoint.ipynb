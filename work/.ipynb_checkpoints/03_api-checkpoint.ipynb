{
 "cells": [
  {
   "cell_type": "markdown",
   "metadata": {},
   "source": [
    "# Recuperando dados de API e salvando em banco de dados\n",
    "\n",
    "By: [Gizélly N.S.](https://www.linkedin.com/in/gizellyns/)   "
   ]
  },
  {
   "cell_type": "markdown",
   "metadata": {},
   "source": [
    "Utilizando o endpoint de scores para buscar determinadas informações do sport soccer_brazil_campeonato na resposta da API e salvar\n",
    "numa tabela chamada partidas_brasileirao_serie_a_2023 contendo as seguintes colunas apenas os resultados do ano de 2023:\n",
    "* data_hora_partida \n",
    "* data_partida\n",
    "* time_casa\n",
    "* time_fora\n",
    "* gols_time_casa\n",
    "* gols_time_fora\n"
   ]
  },
  {
   "cell_type": "code",
   "execution_count": null,
   "metadata": {},
   "outputs": [],
   "source": []
  },
  {
   "cell_type": "code",
   "execution_count": 1,
   "metadata": {},
   "outputs": [],
   "source": [
    "import requests\n",
    "import pandas as pd\n",
    "import json\n",
    "from datetime import datetime\n",
    "from pyspark.sql import SparkSession\n",
    "from pyspark.sql import SQLContext\n",
    "from pyspark.sql import functions as F\n",
    "from pyspark.sql.types import StructType, StructField, StringType, IntegerType, DateType, TimestampType, FloatType, DoubleType\n",
    "\n",
    "from modules.write_on_local_db import write_on_local_db\n",
    "from modules.import_conn_properties import import_conn_properties  \n",
    "from modules.get_from_db import get_from_db\n",
    "\n",
    "spark = SparkSession \\\n",
    "    .builder \\\n",
    "    .appName('03_api') \\\n",
    "    .config('spark.driver.extraClassPath', 'postgresql-42.2.10.jar') \\\n",
    "    .getOrCreate()"
   ]
  },
  {
   "cell_type": "code",
   "execution_count": 2,
   "metadata": {},
   "outputs": [
    {
     "name": "stdout",
     "output_type": "stream",
     "text": [
      "Requirement already satisfied: psycopg2-binary in /opt/conda/lib/python3.11/site-packages (2.9.6)\n"
     ]
    }
   ],
   "source": [
    "!pip install psycopg2-binary"
   ]
  },
  {
   "cell_type": "code",
   "execution_count": 3,
   "metadata": {},
   "outputs": [],
   "source": [
    "\n",
    "\n",
    "url = \"https://odds.p.rapidapi.com/v4/sports/soccer_brazil_campeonato/scores\"\n",
    "querystring = {\"daysFrom\": \"3\"}\n",
    "headers = {\n",
    "    \"X-RapidAPI-Key\": \"7ce70cd8fbmsh16dd692b2bc06c3p186c76jsn4dfac271adfb\",\n",
    "    \"X-RapidAPI-Host\": \"odds.p.rapidapi.com\"\n",
    "}\n",
    "\n",
    "response = requests.get(url, headers=headers, params=querystring)\n",
    "content = response.json()\n",
    "    \n",
    "df_normalized = pd.json_normalize(content)\n",
    "df_normalized[\"data_hora_partida\"] = pd.to_datetime(df_normalized['commence_time'])\n",
    "df_normalized[\"data_partida\"] = df_normalized['data_hora_partida'].dt.date\n",
    "df_normalized[\"ano\"] = df_normalized['data_hora_partida'].dt.year\n",
    "\n",
    "df_filtered = df_normalized[df_normalized[\"ano\"] == 2023]\n",
    "df_filtered = df_filtered.rename(columns = {\"home_team\":\"time_casa\", \"away_team\":\"time_fora\"})\n",
    "\n",
    "df_filtered['scores'] = df_filtered['scores'].fillna(\"\")\n",
    "df_filtered = pd.concat([df_filtered.drop(['scores'], axis=1), df_filtered['scores'].apply(pd.Series)], axis=1)\n",
    "\n",
    "\n",
    "time_casa = pd.json_normalize(df_filtered[0])\n",
    "time_casa = time_casa.rename(columns={\"score\":\"gols_time_casa\"})\n",
    "time_casa = time_casa.loc[:,\"gols_time_casa\"]\n",
    "\n",
    "time_fora = pd.json_normalize(df_filtered[1])\n",
    "time_fora = time_fora.rename(columns=({\"score\":\"gols_time_fora\"}))\n",
    "time_fora = time_fora.loc[:,\"gols_time_fora\"]\n",
    "\n",
    "\n",
    "df_filtered = df_filtered.loc[:,[\"data_hora_partida\", \"data_partida\", \"time_casa\", \"time_fora\"]]\n",
    "\n"
   ]
  },
  {
   "cell_type": "code",
   "execution_count": 4,
   "metadata": {},
   "outputs": [],
   "source": [
    "df = df_filtered.join(time_casa)\n",
    "consolidado = df.join(time_fora)"
   ]
  },
  {
   "cell_type": "code",
   "execution_count": null,
   "metadata": {},
   "outputs": [],
   "source": []
  },
  {
   "cell_type": "markdown",
   "metadata": {},
   "source": [
    "### Criando tabela no banco de dados"
   ]
  },
  {
   "cell_type": "code",
   "execution_count": 5,
   "metadata": {},
   "outputs": [
    {
     "name": "stdout",
     "output_type": "stream",
     "text": [
      "Tabela results criada com sucesso.\n"
     ]
    }
   ],
   "source": [
    "%run -i './sql/create_table_partidas_brasileirao_serie_a_2023.py'"
   ]
  },
  {
   "cell_type": "markdown",
   "metadata": {},
   "source": [
    "### Salvando em banco de dados"
   ]
  },
  {
   "cell_type": "code",
   "execution_count": 6,
   "metadata": {},
   "outputs": [
    {
     "data": {
      "text/plain": [
       "'Sucess'"
      ]
     },
     "execution_count": 6,
     "metadata": {},
     "output_type": "execute_result"
    }
   ],
   "source": [
    "partidas_schema = StructType(\n",
    "        [\n",
    "            StructField(\"data_hora_partida\", TimestampType(), True),\n",
    "            StructField(\"data_partida\", DateType(), True),\n",
    "            StructField(\"time_casa\", StringType(), True),\n",
    "            StructField(\"time_fora\", StringType(), True),\n",
    "            StructField(\"gols_time_casa\", StringType(), True),\n",
    "            StructField(\"gols_time_fora\", StringType(), True)\n",
    "        ]\n",
    "    )\n",
    "\n",
    "consolidado = spark.createDataFrame(consolidado, schema=partidas_schema)\n",
    "\n",
    "bra_properties = import_conn_properties('./conn_properties/brasileirao_serie_a_2023_properties.txt')\n",
    "\n",
    "write_on_local_db(consolidado, bra_properties)"
   ]
  },
  {
   "cell_type": "code",
   "execution_count": null,
   "metadata": {},
   "outputs": [],
   "source": []
  },
  {
   "cell_type": "markdown",
   "metadata": {},
   "source": [
    "### Lendo os dados inseridos no banco"
   ]
  },
  {
   "cell_type": "code",
   "execution_count": 7,
   "metadata": {},
   "outputs": [
    {
     "name": "stdout",
     "output_type": "stream",
     "text": [
      "+-------------------+------------+-------------------+----------------+--------------+--------------+\n",
      "|  data_hora_partida|data_partida|          time_casa|       time_fora|gols_time_casa|gols_time_fora|\n",
      "+-------------------+------------+-------------------+----------------+--------------+--------------+\n",
      "|2023-07-22 21:31:16|  2023-07-22|              Bahia|     Corinthians|             0|             0|\n",
      "|2023-07-23 19:00:00|  2023-07-23|      Bragantino-SP|   Internacional|           NaN|           NaN|\n",
      "|2023-07-23 00:00:00|  2023-07-23|             Gremio|Atletico Mineiro|           NaN|           NaN|\n",
      "|2023-07-23 19:00:00|  2023-07-23|           Cruzeiro|           Goiás|           NaN|           NaN|\n",
      "|2023-07-29 19:00:00|  2023-07-29|      Internacional|          Cuiabá|           NaN|           NaN|\n",
      "|2023-07-23 19:00:00|  2023-07-23|             Santos|        Botafogo|           NaN|           NaN|\n",
      "|2023-07-30 19:00:00|  2023-07-30|           Botafogo|        Coritiba|           NaN|           NaN|\n",
      "|2023-07-31 23:00:00|  2023-07-31|              Goiás|          Gremio|           NaN|           NaN|\n",
      "|2023-07-29 19:00:00|  2023-07-29|         Fluminense|          Santos|           NaN|           NaN|\n",
      "|2023-07-29 21:30:00|  2023-07-29|Atletico Paranaense|        Cruzeiro|           NaN|           NaN|\n",
      "|2023-07-29 19:00:00|  2023-07-29|      Internacional|          Cuiabá|           NaN|           NaN|\n",
      "|2023-07-22 18:59:59|  2023-07-22|          Palmeiras|       Fortaleza|             3|             1|\n",
      "|2023-07-29 19:00:00|  2023-07-29|         Fluminense|          Santos|           NaN|           NaN|\n",
      "|2023-07-29 21:30:00|  2023-07-29|Atletico Paranaense|        Cruzeiro|           NaN|           NaN|\n",
      "|2023-07-23 19:00:00|  2023-07-23|             Santos|        Botafogo|           NaN|           NaN|\n",
      "|2023-07-22 19:00:01|  2023-07-22|           Flamengo| América Mineiro|             1|             1|\n",
      "|2023-07-22 21:30:04|  2023-07-22|             Cuiabá|       Sao Paulo|             1|             0|\n",
      "|2023-07-30 00:00:00|  2023-07-30|   Atletico Mineiro|        Flamengo|           NaN|           NaN|\n",
      "|2023-07-23 19:00:00|  2023-07-23|      Bragantino-SP|   Internacional|           NaN|           NaN|\n",
      "|2023-07-23 19:00:00|  2023-07-23|           Cruzeiro|           Goiás|           NaN|           NaN|\n",
      "+-------------------+------------+-------------------+----------------+--------------+--------------+\n",
      "only showing top 20 rows\n",
      "\n"
     ]
    }
   ],
   "source": [
    "get_from_db(spark, bra_properties, \"brasileirao_serie_a_2023\")\n",
    "\n",
    "spark.sql(\"SELECT  * FROM brasileirao_serie_a_2023\").show()"
   ]
  },
  {
   "cell_type": "code",
   "execution_count": null,
   "metadata": {},
   "outputs": [],
   "source": []
  },
  {
   "cell_type": "code",
   "execution_count": null,
   "metadata": {},
   "outputs": [],
   "source": []
  }
 ],
 "metadata": {
  "kernelspec": {
   "display_name": "Python 3 (ipykernel)",
   "language": "python",
   "name": "python3"
  },
  "language_info": {
   "codemirror_mode": {
    "name": "ipython",
    "version": 3
   },
   "file_extension": ".py",
   "mimetype": "text/x-python",
   "name": "python",
   "nbconvert_exporter": "python",
   "pygments_lexer": "ipython3",
   "version": "3.11.4"
  },
  "pycharm": {
   "stem_cell": {
    "cell_type": "raw",
    "metadata": {
     "collapsed": false
    },
    "source": []
   }
  },
  "toc": {
   "base_numbering": 1,
   "nav_menu": {},
   "number_sections": false,
   "sideBar": true,
   "skip_h1_title": false,
   "title_cell": "Table of Contents",
   "title_sidebar": "Contents",
   "toc_cell": false,
   "toc_position": {
    "height": "calc(100% - 180px)",
    "left": "10px",
    "top": "150px",
    "width": "260px"
   },
   "toc_section_display": true,
   "toc_window_display": true
  }
 },
 "nbformat": 4,
 "nbformat_minor": 4
}
